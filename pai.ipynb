{
  "nbformat": 4,
  "nbformat_minor": 0,
  "metadata": {
    "colab": {
      "provenance": [],
      "authorship_tag": "ABX9TyOw94JpZo9Zd/AAzjJw5st0",
      "include_colab_link": true
    },
    "kernelspec": {
      "name": "python3",
      "display_name": "Python 3"
    },
    "language_info": {
      "name": "python"
    }
  },
  "cells": [
    {
      "cell_type": "markdown",
      "metadata": {
        "id": "view-in-github",
        "colab_type": "text"
      },
      "source": [
        "<a href=\"https://colab.research.google.com/github/vamshi7674/chatbot/blob/main/pai.ipynb\" target=\"_parent\"><img src=\"https://colab.research.google.com/assets/colab-badge.svg\" alt=\"Open In Colab\"/></a>"
      ]
    },
    {
      "cell_type": "code",
      "execution_count": null,
      "metadata": {
        "colab": {
          "base_uri": "https://localhost:8080/"
        },
        "id": "dUv96L-Vfh2W",
        "outputId": "8c0ffad9-9307-4b2d-a059-162a27533254"
      },
      "outputs": [
        {
          "output_type": "stream",
          "name": "stdout",
          "text": [
            "Welcome, you can play a number guessing game with me!\n",
            "You: play\n",
            "Welcome to the number guessing game!\n",
            "I have selected a number between 1 to 10\n",
            "Try to guess it!\n",
            "Enter your guess: 3\n",
            "Too low! Try again.\n",
            "Enter your guess: 6\n",
            "Too low! Try again.\n",
            "Enter your guess: 8\n",
            "Congrats! You guessed correctly in 3 attempts.\n",
            "Type 'Play' to start another game or 'exit' to quit.\n",
            "You: exit\n",
            "Goodbye! Thanks for playing!\n"
          ]
        }
      ],
      "source": [
        "import random\n",
        "\n",
        "def number_guessing_game():\n",
        "    print(\"Welcome to the number guessing game!\")\n",
        "    print(\"I have selected a number between 1 to 10\")\n",
        "    print(\"Try to guess it!\")\n",
        "    number_to_guess = random.randint(1, 10)\n",
        "    attempts = 0\n",
        "    guessed_correctly = False\n",
        "\n",
        "    while not guessed_correctly:\n",
        "        try:\n",
        "            user_guess = int(input(\"Enter your guess: \"))\n",
        "            attempts += 1\n",
        "\n",
        "            if user_guess < number_to_guess:\n",
        "                print(\"Too low! Try again.\")\n",
        "            elif user_guess > number_to_guess:\n",
        "                print(\"Too high! Try again.\")\n",
        "            else:\n",
        "                guessed_correctly = True\n",
        "                print(f\"Congrats! You guessed correctly in {attempts} attempts.\")\n",
        "\n",
        "        except ValueError:\n",
        "            print(\"Please enter a valid number between 1 & 10.\")\n",
        "\n",
        "def main():\n",
        "    print(\"Welcome, you can play a number guessing game with me!\")\n",
        "\n",
        "    while True:\n",
        "        user_input = input(\"You: \").strip().lower()  # making input case-insensitive\n",
        "\n",
        "        if 'play' in user_input.lower():\n",
        "            number_guessing_game()\n",
        "            print(\"Type 'Play' to start another game or 'exit' to quit.\")\n",
        "        elif 'exit' in user_input.lower():\n",
        "            print(\"Goodbye! Thanks for playing!\")\n",
        "            break  # This will exit the loop and stop the program\n",
        "        else:\n",
        "            print(\"I can only play a number guessing game. Type 'Play' to start or 'exit' to quit.\")\n",
        "\n",
        "if __name__ == \"__main__\":\n",
        "    main()"
      ]
    }
  ]
}